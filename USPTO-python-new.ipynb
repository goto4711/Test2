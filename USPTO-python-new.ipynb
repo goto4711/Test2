{
 "cells": [
  {
   "cell_type": "markdown",
   "id": "0847ef0a",
   "metadata": {},
   "source": [
    "# USPTO"
   ]
  },
  {
   "cell_type": "code",
   "execution_count": 1,
   "id": "e0982f1b",
   "metadata": {},
   "outputs": [
    {
     "name": "stdout",
     "output_type": "stream",
     "text": [
      "Collecting voila\n",
      "  Downloading voila-0.3.6-py3-none-any.whl (1.7 MB)\n",
      "\u001b[K     |################################| 1.7 MB 9.8 MB/s eta 0:00:01\n",
      "\u001b[?25hCollecting websockets>=9.0\n",
      "  Downloading websockets-10.3-cp39-cp39-manylinux_2_5_x86_64.manylinux1_x86_64.manylinux_2_12_x86_64.manylinux2010_x86_64.whl (111 kB)\n",
      "\u001b[K     |################################| 111 kB 119.6 MB/s eta 0:00:01\n",
      "\u001b[?25hRequirement already satisfied: traitlets<6,>=5.0.3 in /sara/eb/AVX512/Debian10/EB_production/2021/software/IPython/7.25.0-GCCcore-10.3.0/lib/python3.9/site-packages (from voila) (5.0.5)\n",
      "Collecting jupyter-core>=4.11.0\n",
      "  Downloading jupyter_core-4.11.1-py3-none-any.whl (88 kB)\n",
      "\u001b[K     |################################| 88 kB 9.9 MB/s s eta 0:00:01\n",
      "\u001b[?25hRequirement already satisfied: jupyter-client<8,>=6.1.3 in /sara/eb/AVX512/Debian10/EB_production/2021/software/IPython/7.25.0-GCCcore-10.3.0/lib/python3.9/site-packages (from voila) (6.1.12)\n",
      "Collecting nbconvert<7,>=6.4.5\n",
      "  Downloading nbconvert-6.5.3-py3-none-any.whl (563 kB)\n",
      "\u001b[K     |################################| 563 kB 122.3 MB/s eta 0:00:01\n",
      "\u001b[?25hCollecting jupyterlab-server<3,>=2.3.0\n",
      "  Downloading jupyterlab_server-2.15.0-py3-none-any.whl (54 kB)\n",
      "\u001b[K     |################################| 54 kB 3.2 MB/s s eta 0:00:01\n",
      "\u001b[?25hRequirement already satisfied: nbclient<0.6,>=0.4.0 in /sara/eb/AVX512/Debian10/EB_production/2021/software/IPython/7.25.0-GCCcore-10.3.0/lib/python3.9/site-packages (from voila) (0.5.3)\n",
      "Collecting jupyter-server<2.0.0,>=1.18\n",
      "  Downloading jupyter_server-1.18.1-py3-none-any.whl (344 kB)\n",
      "\u001b[K     |################################| 344 kB 118.9 MB/s eta 0:00:01\n",
      "\u001b[?25hRequirement already satisfied: tornado>=4.1 in /sara/eb/AVX512/Debian10/EB_production/2021/software/IPython/7.25.0-GCCcore-10.3.0/lib/python3.9/site-packages (from jupyter-client<8,>=6.1.3->voila) (6.1)\n",
      "Requirement already satisfied: pyzmq>=13 in /sara/eb/AVX512/Debian10/EB_production/2021/software/IPython/7.25.0-GCCcore-10.3.0/lib/python3.9/site-packages (from jupyter-client<8,>=6.1.3->voila) (22.1.0)\n",
      "Requirement already satisfied: python-dateutil>=2.1 in /sara/eb/AVX512/Debian10/EB_production/2021/software/Python/3.9.5-GCCcore-10.3.0/lib/python3.9/site-packages (from jupyter-client<8,>=6.1.3->voila) (2.8.1)\n",
      "Requirement already satisfied: terminado>=0.8.3 in /sara/eb/AVX512/Debian10/EB_production/2021/software/IPython/7.25.0-GCCcore-10.3.0/lib/python3.9/site-packages (from jupyter-server<2.0.0,>=1.18->voila) (0.10.1)\n",
      "Requirement already satisfied: websocket-client in /sara/eb/AVX512/Debian10/EB_production/2021/software/jupyter-server-proxy/3.2.1-GCCcore-10.3.0/lib/python3.9/site-packages (from jupyter-server<2.0.0,>=1.18->voila) (1.1.0)\n",
      "Requirement already satisfied: jinja2 in /sara/eb/AVX512/Debian10/EB_production/2021/software/Python/3.9.5-GCCcore-10.3.0/lib/python3.9/site-packages (from jupyter-server<2.0.0,>=1.18->voila) (2.11.3)\n",
      "Requirement already satisfied: Send2Trash in /sara/eb/AVX512/Debian10/EB_production/2021/software/IPython/7.25.0-GCCcore-10.3.0/lib/python3.9/site-packages (from jupyter-server<2.0.0,>=1.18->voila) (1.7.1)\n",
      "Collecting traitlets<6,>=5.0.3\n",
      "  Downloading traitlets-5.3.0-py3-none-any.whl (106 kB)\n",
      "\u001b[K     |################################| 106 kB 49.3 MB/s eta 0:00:01\n",
      "\u001b[?25hCollecting nbformat>=5.2.0\n",
      "  Downloading nbformat-5.4.0-py3-none-any.whl (73 kB)\n",
      "\u001b[K     |################################| 73 kB 3.1 MB/s s eta 0:00:01\n",
      "\u001b[?25hRequirement already satisfied: argon2-cffi in /sara/eb/AVX512/Debian10/EB_production/2021/software/IPython/7.25.0-GCCcore-10.3.0/lib/python3.9/site-packages (from jupyter-server<2.0.0,>=1.18->voila) (20.1.0)\n",
      "Requirement already satisfied: anyio<4,>=3.1.0 in /sara/eb/AVX512/Debian10/EB_production/2021/software/jupyter-server-proxy/3.2.1-GCCcore-10.3.0/lib/python3.9/site-packages (from jupyter-server<2.0.0,>=1.18->voila) (3.2.1)\n",
      "Requirement already satisfied: packaging in /sara/eb/AVX512/Debian10/EB_production/2021/software/Python/3.9.5-GCCcore-10.3.0/lib/python3.9/site-packages (from jupyter-server<2.0.0,>=1.18->voila) (20.9)\n",
      "Requirement already satisfied: prometheus-client in /sara/eb/AVX512/Debian10/EB_production/2021/software/IPython/7.25.0-GCCcore-10.3.0/lib/python3.9/site-packages (from jupyter-server<2.0.0,>=1.18->voila) (0.11.0)\n",
      "Collecting idna>=2.8\n",
      "  Downloading idna-3.3-py3-none-any.whl (61 kB)\n",
      "\u001b[K     |################################| 61 kB 9.1 MB/s  eta 0:00:01\n",
      "\u001b[?25hRequirement already satisfied: sniffio>=1.1 in /sara/eb/AVX512/Debian10/EB_production/2021/software/jupyter-server-proxy/3.2.1-GCCcore-10.3.0/lib/python3.9/site-packages (from anyio<4,>=3.1.0->jupyter-server<2.0.0,>=1.18->voila) (1.2.0)\n",
      "Requirement already satisfied: babel in /sara/eb/AVX512/Debian10/EB_production/2021/software/Python/3.9.5-GCCcore-10.3.0/lib/python3.9/site-packages (from jupyterlab-server<3,>=2.3.0->voila) (2.9.1)\n",
      "Collecting jinja2\n",
      "  Downloading Jinja2-3.1.2-py3-none-any.whl (133 kB)\n",
      "\u001b[K     |################################| 133 kB 129.4 MB/s eta 0:00:01\n",
      "\u001b[?25hCollecting json5\n",
      "  Downloading json5-0.9.9-py2.py3-none-any.whl (18 kB)\n",
      "Requirement already satisfied: requests in /home/blanket/.local/lib/python3.9/site-packages (from jupyterlab-server<3,>=2.3.0->voila) (2.28.0)\n",
      "Requirement already satisfied: importlib-metadata>=3.6 in /sara/eb/AVX512/Debian10/EB_production/2021/software/Python/3.9.5-GCCcore-10.3.0/lib/python3.9/site-packages (from jupyterlab-server<3,>=2.3.0->voila) (4.0.1)\n",
      "Requirement already satisfied: jsonschema>=3.0.1 in /sara/eb/AVX512/Debian10/EB_production/2021/software/Python/3.9.5-GCCcore-10.3.0/lib/python3.9/site-packages (from jupyterlab-server<3,>=2.3.0->voila) (3.2.0)\n",
      "Requirement already satisfied: zipp>=0.5 in /sara/eb/AVX512/Debian10/EB_production/2021/software/Python/3.9.5-GCCcore-10.3.0/lib/python3.9/site-packages (from importlib-metadata>=3.6->jupyterlab-server<3,>=2.3.0->voila) (3.4.1)\n",
      "Collecting MarkupSafe>=2.0\n",
      "  Downloading MarkupSafe-2.1.1-cp39-cp39-manylinux_2_17_x86_64.manylinux2014_x86_64.whl (25 kB)\n",
      "Requirement already satisfied: six>=1.11.0 in /sara/eb/AVX512/Debian10/EB_production/2021/software/Python/3.9.5-GCCcore-10.3.0/lib/python3.9/site-packages (from jsonschema>=3.0.1->jupyterlab-server<3,>=2.3.0->voila) (1.16.0)\n",
      "Requirement already satisfied: setuptools in /sara/eb/AVX512/Debian10/EB_production/2021/software/Python/3.9.5-GCCcore-10.3.0/lib/python3.9/site-packages (from jsonschema>=3.0.1->jupyterlab-server<3,>=2.3.0->voila) (56.2.0)\n",
      "Requirement already satisfied: attrs>=17.4.0 in /sara/eb/AVX512/Debian10/EB_production/2021/software/Python/3.9.5-GCCcore-10.3.0/lib/python3.9/site-packages (from jsonschema>=3.0.1->jupyterlab-server<3,>=2.3.0->voila) (21.2.0)\n",
      "Requirement already satisfied: pyrsistent>=0.14.0 in /sara/eb/AVX512/Debian10/EB_production/2021/software/Python/3.9.5-GCCcore-10.3.0/lib/python3.9/site-packages (from jsonschema>=3.0.1->jupyterlab-server<3,>=2.3.0->voila) (0.17.3)\n",
      "Requirement already satisfied: nest-asyncio in /sara/eb/AVX512/Debian10/EB_production/2021/software/IPython/7.25.0-GCCcore-10.3.0/lib/python3.9/site-packages (from nbclient<0.6,>=0.4.0->voila) (1.5.1)\n",
      "Requirement already satisfied: async-generator in /sara/eb/AVX512/Debian10/EB_production/2021/software/IPython/7.25.0-GCCcore-10.3.0/lib/python3.9/site-packages (from nbclient<0.6,>=0.4.0->voila) (1.10)\n",
      "Requirement already satisfied: mistune<2,>=0.8.1 in /sara/eb/AVX512/Debian10/EB_production/2021/software/IPython/7.25.0-GCCcore-10.3.0/lib/python3.9/site-packages (from nbconvert<7,>=6.4.5->voila) (0.8.4)\n",
      "Requirement already satisfied: lxml in /home/blanket/.local/lib/python3.9/site-packages (from nbconvert<7,>=6.4.5->voila) (4.9.0)\n",
      "Collecting tinycss2\n",
      "  Downloading tinycss2-1.1.1-py3-none-any.whl (21 kB)\n",
      "Requirement already satisfied: bleach in /sara/eb/AVX512/Debian10/EB_production/2021/software/IPython/7.25.0-GCCcore-10.3.0/lib/python3.9/site-packages (from nbconvert<7,>=6.4.5->voila) (3.3.0)\n",
      "Requirement already satisfied: jupyterlab-pygments in /sara/eb/AVX512/Debian10/EB_production/2021/software/IPython/7.25.0-GCCcore-10.3.0/lib/python3.9/site-packages (from nbconvert<7,>=6.4.5->voila) (0.1.2)\n",
      "Requirement already satisfied: entrypoints>=0.2.2 in /sara/eb/AVX512/Debian10/EB_production/2021/software/IPython/7.25.0-GCCcore-10.3.0/lib/python3.9/site-packages (from nbconvert<7,>=6.4.5->voila) (0.3)\n",
      "Requirement already satisfied: defusedxml in /sara/eb/AVX512/Debian10/EB_production/2021/software/IPython/7.25.0-GCCcore-10.3.0/lib/python3.9/site-packages (from nbconvert<7,>=6.4.5->voila) (0.7.1)\n",
      "Requirement already satisfied: beautifulsoup4 in /home/blanket/.local/lib/python3.9/site-packages (from nbconvert<7,>=6.4.5->voila) (4.11.1)\n",
      "Requirement already satisfied: pygments>=2.4.1 in /sara/eb/AVX512/Debian10/EB_production/2021/software/Python/3.9.5-GCCcore-10.3.0/lib/python3.9/site-packages (from nbconvert<7,>=6.4.5->voila) (2.9.0)\n",
      "Requirement already satisfied: pandocfilters>=1.4.1 in /sara/eb/AVX512/Debian10/EB_production/2021/software/IPython/7.25.0-GCCcore-10.3.0/lib/python3.9/site-packages (from nbconvert<7,>=6.4.5->voila) (1.4.3)\n",
      "Collecting fastjsonschema\n",
      "  Downloading fastjsonschema-2.16.1-py3-none-any.whl (22 kB)\n",
      "Requirement already satisfied: ptyprocess in /sara/eb/AVX512/Debian10/EB_production/2021/software/Python/3.9.5-GCCcore-10.3.0/lib/python3.9/site-packages (from terminado>=0.8.3->jupyter-server<2.0.0,>=1.18->voila) (0.7.0)\n",
      "Requirement already satisfied: cffi>=1.0.0 in /sara/eb/AVX512/Debian10/EB_production/2021/software/Python/3.9.5-GCCcore-10.3.0/lib/python3.9/site-packages (from argon2-cffi->jupyter-server<2.0.0,>=1.18->voila) (1.14.5)\n",
      "Requirement already satisfied: pycparser in /sara/eb/AVX512/Debian10/EB_production/2021/software/Python/3.9.5-GCCcore-10.3.0/lib/python3.9/site-packages (from cffi>=1.0.0->argon2-cffi->jupyter-server<2.0.0,>=1.18->voila) (2.20)\n",
      "Requirement already satisfied: pytz>=2015.7 in /sara/eb/AVX512/Debian10/EB_production/2021/software/Python/3.9.5-GCCcore-10.3.0/lib/python3.9/site-packages (from babel->jupyterlab-server<3,>=2.3.0->voila) (2021.1)\n",
      "Requirement already satisfied: soupsieve>1.2 in /home/blanket/.local/lib/python3.9/site-packages (from beautifulsoup4->nbconvert<7,>=6.4.5->voila) (2.3.2.post1)\n",
      "Requirement already satisfied: webencodings in /sara/eb/AVX512/Debian10/EB_production/2021/software/Python/3.9.5-GCCcore-10.3.0/lib/python3.9/site-packages (from bleach->nbconvert<7,>=6.4.5->voila) (0.5.1)\n",
      "Requirement already satisfied: pyparsing>=2.0.2 in /sara/eb/AVX512/Debian10/EB_production/2021/software/Python/3.9.5-GCCcore-10.3.0/lib/python3.9/site-packages (from packaging->jupyter-server<2.0.0,>=1.18->voila) (2.4.7)\n",
      "Requirement already satisfied: urllib3<1.27,>=1.21.1 in /home/blanket/.local/lib/python3.9/site-packages (from requests->jupyterlab-server<3,>=2.3.0->voila) (1.26.9)\n",
      "Requirement already satisfied: certifi>=2017.4.17 in /sara/eb/AVX512/Debian10/EB_production/2021/software/Python/3.9.5-GCCcore-10.3.0/lib/python3.9/site-packages (from requests->jupyterlab-server<3,>=2.3.0->voila) (2020.12.5)\n",
      "Requirement already satisfied: charset-normalizer~=2.0.0 in /home/blanket/.local/lib/python3.9/site-packages (from requests->jupyterlab-server<3,>=2.3.0->voila) (2.0.12)\n",
      "Installing collected packages: traitlets, jupyter-core, fastjsonschema, nbformat, MarkupSafe, tinycss2, jinja2, idna, nbconvert, jupyter-server, json5, websockets, jupyterlab-server, voila\n",
      "\u001b[33m  WARNING: The scripts jupyter, jupyter-migrate and jupyter-troubleshoot are installed in '/home/blanket/.local/bin' which is not on PATH.\n",
      "  Consider adding this directory to PATH or, if you prefer to suppress this warning, use --no-warn-script-location.\u001b[0m\n",
      "\u001b[33m  WARNING: The script jupyter-trust is installed in '/home/blanket/.local/bin' which is not on PATH.\n",
      "  Consider adding this directory to PATH or, if you prefer to suppress this warning, use --no-warn-script-location.\u001b[0m\n",
      "  Attempting uninstall: idna\n",
      "    Found existing installation: idna 2.6\n",
      "    Uninstalling idna-2.6:\n",
      "      Successfully uninstalled idna-2.6\n",
      "\u001b[33m  WARNING: The scripts jupyter-dejavu and jupyter-nbconvert are installed in '/home/blanket/.local/bin' which is not on PATH.\n",
      "  Consider adding this directory to PATH or, if you prefer to suppress this warning, use --no-warn-script-location.\u001b[0m\n",
      "\u001b[33m  WARNING: The script jupyter-server is installed in '/home/blanket/.local/bin' which is not on PATH.\n",
      "  Consider adding this directory to PATH or, if you prefer to suppress this warning, use --no-warn-script-location.\u001b[0m\n",
      "\u001b[33m  WARNING: The script pyjson5 is installed in '/home/blanket/.local/bin' which is not on PATH.\n",
      "  Consider adding this directory to PATH or, if you prefer to suppress this warning, use --no-warn-script-location.\u001b[0m\n",
      "\u001b[33m  WARNING: The script voila is installed in '/home/blanket/.local/bin' which is not on PATH.\n",
      "  Consider adding this directory to PATH or, if you prefer to suppress this warning, use --no-warn-script-location.\u001b[0m\n",
      "\u001b[31mERROR: pip's dependency resolver does not currently take into account all the packages that are installed. This behaviour is the source of the following dependency conflicts.\n",
      "jupyter-console 6.4.3 requires jupyter-client>=7.0.0, but you have jupyter-client 6.1.12 which is incompatible.\n",
      "httpx 0.13.3 requires idna==2.*, but you have idna 3.3 which is incompatible.\n",
      "sphinx 4.0.0 requires Jinja2<3.0,>=2.3, but you have jinja2 3.1.2 which is incompatible.\n",
      "sphinx 4.0.0 requires MarkupSafe<2.0, but you have markupsafe 2.1.1 which is incompatible.\u001b[0m\n",
      "Successfully installed MarkupSafe-2.1.1 fastjsonschema-2.16.1 idna-3.3 jinja2-3.1.2 json5-0.9.9 jupyter-core-4.11.1 jupyter-server-1.18.1 jupyterlab-server-2.15.0 nbconvert-6.5.3 nbformat-5.4.0 tinycss2-1.1.1 traitlets-5.3.0 voila-0.3.6 websockets-10.3\n",
      "\u001b[33mWARNING: You are using pip version 21.1.1; however, version 22.2.2 is available.\n",
      "You should consider upgrading via the '/sw/arch/Debian10/EB_production/2021/software/Python/3.9.5-GCCcore-10.3.0/bin/python3.9 -m pip install --upgrade pip' command.\u001b[0m\n"
     ]
    }
   ],
   "source": [
    "!pip install --user voila\n",
    "!jupyter serverextension enable voila --sys-prefix"
   ]
  },
  {
   "cell_type": "code",
   "execution_count": 1,
   "id": "72bfe6ee",
   "metadata": {},
   "outputs": [],
   "source": [
    "import pandas as pd\n",
    "from bs4 import BeautifulSoup"
   ]
  },
  {
   "cell_type": "code",
   "execution_count": 2,
   "id": "82739c96",
   "metadata": {},
   "outputs": [],
   "source": [
    "import urllib3\n",
    "import requests\n",
    "\n",
    "from bs4 import BeautifulSoup\n",
    "import json\n",
    "\n",
    "import re\n",
    "import time"
   ]
  },
  {
   "cell_type": "code",
   "execution_count": 3,
   "id": "b7cd8d7d",
   "metadata": {},
   "outputs": [],
   "source": [
    "#Scraping taken from https://github.com/daneads/pypatent\n",
    "#Goes to the old DB with traditional HTML \n",
    "#https://patft.uspto.gov/netacgi/nph-Parser?Sect1=PTO1&Sect2=HITOFF&d=PALL&p=1&u=%2Fnetahtml%2FPTO%2Fsrchnum.htm&r=1&f=G&l=50&s1=11,163,036.PN.&OS=PN/11,163,036&RS=PN/11,163,036\n",
    "\n",
    "from selenium import webdriver\n",
    "\n",
    "class WebConnection:\n",
    "    def __init__(self,\n",
    "                 use_selenium: bool = False,\n",
    "                 selenium_driver: webdriver = None,\n",
    "                 user_agent: str = None,\n",
    "                 request_header: dict = None):\n",
    "        self.use_selenium = use_selenium\n",
    "        self.selenium_driver = selenium_driver\n",
    "\n",
    "        if user_agent is None:\n",
    "            self.user_agent = 'Mozilla/5.0 (Windows NT 10.0; Win64; x64) AppleWebKit/537.36 (KHTML, like Gecko) Chrome/70.0.3538.77 Safari/537.36'\n",
    "        else:\n",
    "            self.user_agent = user_agent\n",
    "        if request_header is None:\n",
    "            self.request_header = {'user-agent': self.user_agent}\n",
    "        else:\n",
    "            self.request_header = request_header\n",
    "\n",
    "    def get(self, url: str):\n",
    "        if self.use_selenium:\n",
    "            if self.selenium_driver is None:\n",
    "                raise ValueError('WebConnection.selenium_driver must point to a valid Selenium webdriver')\n",
    "            else:\n",
    "                self.selenium_driver.get(url)\n",
    "                return self.selenium_driver.page_source\n",
    "        else:\n",
    "            return requests.get(url, headers=self.request_header).text"
   ]
  },
  {
   "cell_type": "code",
   "execution_count": 4,
   "id": "234a21a1",
   "metadata": {},
   "outputs": [],
   "source": [
    "def get_abstract(s):\n",
    "    try:\n",
    "        abst = s.find(string='Abstract').find_next().text.replace('\\n', '').strip()\n",
    "        return(re.sub(' +',' ', abst))\n",
    "    except:\n",
    "        return(\"\")\n",
    "    \n",
    "def get_claims(s):\n",
    "    try:\n",
    "        claims = s.find(string=re.compile('Claims')).find_all_next(string=True)\n",
    "        claims = claims[:claims.index('Description')]\n",
    "        claims = [i.replace('\\n', '').strip() for i in claims if i.replace('\\n', '').strip() != '']\n",
    "        return(' '.join(claims))\n",
    "    except:\n",
    "        return(\"\")\n",
    "\n",
    "def get_description(s):\n",
    "    try:\n",
    "        description = s.find(string=re.compile('Description')).find_all_next(string=True)\n",
    "        description = [i.replace('\\n', '').strip() for i in description if i.replace('\\n', '').strip() not in ['', '* * * * *']]\n",
    "        return(' '. join(description))\n",
    "    except:\n",
    "        return(\"\")"
   ]
  },
  {
   "cell_type": "markdown",
   "id": "66e9b9d4",
   "metadata": {},
   "source": [
    "- Go to Google Patent Search advanced search\n",
    "- Specify the query, for instance, with assignee and inventor name: https://patents.google.com/?inventor=Yufei+Blankenship&assignee=Google+Llc\n",
    "- Make sure to only include US and English ... https://patents.google.com/?country=US&status=GRANT&language=ENGLISH&type=PATENT\n",
    "- Full search https://patents.google.com/?q=data&assignee=Thales&country=US&before=priority:20221231&after=priority:20180101&status=GRANT&language=ENGLISH&type=PATENT\n",
    "- Download CSV file (first link not with concepts) "
   ]
  },
  {
   "cell_type": "code",
   "execution_count": 5,
   "id": "6fb85f8e",
   "metadata": {},
   "outputs": [
    {
     "data": {
      "text/plain": [
       "(84, 10)"
      ]
     },
     "execution_count": 5,
     "metadata": {},
     "output_type": "execute_result"
    }
   ],
   "source": [
    "patents_df = pd.read_csv('gp-search-20220721-232926.csv', skiprows=[0])\n",
    "\n",
    "patents_df.shape"
   ]
  },
  {
   "cell_type": "code",
   "execution_count": 6,
   "id": "f5523a1b",
   "metadata": {},
   "outputs": [
    {
     "data": {
      "text/plain": [
       "(84, 10)"
      ]
     },
     "execution_count": 6,
     "metadata": {},
     "output_type": "execute_result"
    }
   ],
   "source": [
    "#Only US patents \n",
    "\n",
    "patents_df = patents_df[patents_df['id'].str.startswith('US', na=False)] \n",
    "patents_df.shape"
   ]
  },
  {
   "cell_type": "raw",
   "id": "26aea342",
   "metadata": {},
   "source": [
    "#For testing\n",
    "#patents_df = patents_df.iloc[:3,:]\n",
    "#patents_df.shape"
   ]
  },
  {
   "cell_type": "code",
   "execution_count": 7,
   "id": "1dee26e3",
   "metadata": {},
   "outputs": [
    {
     "data": {
      "text/html": [
       "<div>\n",
       "<style scoped>\n",
       "    .dataframe tbody tr th:only-of-type {\n",
       "        vertical-align: middle;\n",
       "    }\n",
       "\n",
       "    .dataframe tbody tr th {\n",
       "        vertical-align: top;\n",
       "    }\n",
       "\n",
       "    .dataframe thead th {\n",
       "        text-align: right;\n",
       "    }\n",
       "</style>\n",
       "<table border=\"1\" class=\"dataframe\">\n",
       "  <thead>\n",
       "    <tr style=\"text-align: right;\">\n",
       "      <th></th>\n",
       "      <th>id</th>\n",
       "      <th>title</th>\n",
       "      <th>assignee</th>\n",
       "      <th>inventor/author</th>\n",
       "      <th>priority date</th>\n",
       "      <th>filing/creation date</th>\n",
       "      <th>publication date</th>\n",
       "      <th>grant date</th>\n",
       "      <th>result link</th>\n",
       "      <th>representative figure link</th>\n",
       "    </tr>\n",
       "  </thead>\n",
       "  <tbody>\n",
       "    <tr>\n",
       "      <th>0</th>\n",
       "      <td>US-10914955-B2</td>\n",
       "      <td>Peripheral vision in a human-machine interface</td>\n",
       "      <td>Thales</td>\n",
       "      <td>Stéphanie Lafon, Alexiane Bailly, Sébastien Dotte</td>\n",
       "      <td>2018-02-12</td>\n",
       "      <td>2019-02-11</td>\n",
       "      <td>2021-02-09</td>\n",
       "      <td>2021-02-09</td>\n",
       "      <td>https://patents.google.com/patent/US10914955B2/en</td>\n",
       "      <td>https://patentimages.storage.googleapis.com/f6...</td>\n",
       "    </tr>\n",
       "    <tr>\n",
       "      <th>1</th>\n",
       "      <td>US-11102014-B2</td>\n",
       "      <td>Method for handling data in a secure container</td>\n",
       "      <td>THALES DIS CPL CANADA, Inc.</td>\n",
       "      <td>Dmitry RIYUMKIN, Darren Johnson</td>\n",
       "      <td>2019-01-30</td>\n",
       "      <td>2019-01-30</td>\n",
       "      <td>2021-08-24</td>\n",
       "      <td>2021-08-24</td>\n",
       "      <td>https://patents.google.com/patent/US11102014B2/en</td>\n",
       "      <td>https://patentimages.storage.googleapis.com/45...</td>\n",
       "    </tr>\n",
       "  </tbody>\n",
       "</table>\n",
       "</div>"
      ],
      "text/plain": [
       "               id                                            title  \\\n",
       "0  US-10914955-B2  Peripheral vision in a human-machine interface    \n",
       "1  US-11102014-B2  Method for handling data in a secure container    \n",
       "\n",
       "                      assignee  \\\n",
       "0                       Thales   \n",
       "1  THALES DIS CPL CANADA, Inc.   \n",
       "\n",
       "                                     inventor/author priority date  \\\n",
       "0  Stéphanie Lafon, Alexiane Bailly, Sébastien Dotte    2018-02-12   \n",
       "1                    Dmitry RIYUMKIN, Darren Johnson    2019-01-30   \n",
       "\n",
       "  filing/creation date publication date  grant date  \\\n",
       "0           2019-02-11       2021-02-09  2021-02-09   \n",
       "1           2019-01-30       2021-08-24  2021-08-24   \n",
       "\n",
       "                                         result link  \\\n",
       "0  https://patents.google.com/patent/US10914955B2/en   \n",
       "1  https://patents.google.com/patent/US11102014B2/en   \n",
       "\n",
       "                          representative figure link  \n",
       "0  https://patentimages.storage.googleapis.com/f6...  \n",
       "1  https://patentimages.storage.googleapis.com/45...  "
      ]
     },
     "execution_count": 7,
     "metadata": {},
     "output_type": "execute_result"
    }
   ],
   "source": [
    "patents_df.head(2)"
   ]
  },
  {
   "cell_type": "code",
   "execution_count": 8,
   "id": "16544a34",
   "metadata": {},
   "outputs": [
    {
     "name": "stderr",
     "output_type": "stream",
     "text": [
      "100%|██████████| 84/84 [03:08<00:00,  2.24s/it]\n"
     ]
    }
   ],
   "source": [
    "from tqdm import tqdm\n",
    "\n",
    "data = []\n",
    "\n",
    "i = 1\n",
    "\n",
    "for id_ in tqdm(list(patents_df['id'])):\n",
    "    #Format is 1,100,100 without the US and extension\n",
    "    p_ = '{:,}'.format(int(re.findall(r'\\d+', id_)[0]))\n",
    "    url_ = 'https://patft.uspto.gov/netacgi/nph-Parser?Sect1=PTO1&Sect2=HITOFF&d=PALL&p=1&u=%2Fnetahtml%2FPTO%2Fsrchnum.htm&r=1&f=G&l=50&s1=' + p_ + '.PN.&OS=PN/' + p_ + '&RS=PN/' + p_\n",
    "    r = WebConnection().get(url_)\n",
    "    soup = BeautifulSoup(r, 'html.parser')\n",
    "    abs_ = get_abstract(soup)\n",
    "    desc_ = get_description(soup)\n",
    "    claim_ = get_claims(soup)\n",
    "    #Add time delay\n",
    "    if (i % 10 == 0):\n",
    "        time.sleep(5)\n",
    "    data.append((id_, abs_, claim_, desc_))\n",
    "    i = i + 1\n"
   ]
  },
  {
   "cell_type": "code",
   "execution_count": 9,
   "id": "6ec97ed7",
   "metadata": {},
   "outputs": [],
   "source": [
    "df_ = pd.DataFrame(data, columns=['id', 'abstract', 'claims', 'description'])"
   ]
  },
  {
   "cell_type": "code",
   "execution_count": 10,
   "id": "9aed8b9a",
   "metadata": {},
   "outputs": [
    {
     "name": "stdout",
     "output_type": "stream",
     "text": [
      "(84, 4)\n"
     ]
    },
    {
     "data": {
      "text/html": [
       "<div>\n",
       "<style scoped>\n",
       "    .dataframe tbody tr th:only-of-type {\n",
       "        vertical-align: middle;\n",
       "    }\n",
       "\n",
       "    .dataframe tbody tr th {\n",
       "        vertical-align: top;\n",
       "    }\n",
       "\n",
       "    .dataframe thead th {\n",
       "        text-align: right;\n",
       "    }\n",
       "</style>\n",
       "<table border=\"1\" class=\"dataframe\">\n",
       "  <thead>\n",
       "    <tr style=\"text-align: right;\">\n",
       "      <th></th>\n",
       "      <th>id</th>\n",
       "      <th>abstract</th>\n",
       "      <th>claims</th>\n",
       "      <th>description</th>\n",
       "    </tr>\n",
       "  </thead>\n",
       "  <tbody>\n",
       "    <tr>\n",
       "      <th>82</th>\n",
       "      <td>US-11056011-B2</td>\n",
       "      <td>A method for managing the display of a vertica...</td>\n",
       "      <td>The invention claimed is: 1.  A method for man...</td>\n",
       "      <td>TECHNICAL FIELD The present invention relates ...</td>\n",
       "    </tr>\n",
       "    <tr>\n",
       "      <th>83</th>\n",
       "      <td>US-10938470-B2</td>\n",
       "      <td>A station placed on a high-altitude stationary...</td>\n",
       "      <td>The invention claimed is: 1.  A station placed...</td>\n",
       "      <td>CROSS-REFERENCE TO RELATED APPLICATIONS This a...</td>\n",
       "    </tr>\n",
       "  </tbody>\n",
       "</table>\n",
       "</div>"
      ],
      "text/plain": [
       "                id                                           abstract  \\\n",
       "82  US-11056011-B2  A method for managing the display of a vertica...   \n",
       "83  US-10938470-B2  A station placed on a high-altitude stationary...   \n",
       "\n",
       "                                               claims  \\\n",
       "82  The invention claimed is: 1.  A method for man...   \n",
       "83  The invention claimed is: 1.  A station placed...   \n",
       "\n",
       "                                          description  \n",
       "82  TECHNICAL FIELD The present invention relates ...  \n",
       "83  CROSS-REFERENCE TO RELATED APPLICATIONS This a...  "
      ]
     },
     "execution_count": 10,
     "metadata": {},
     "output_type": "execute_result"
    }
   ],
   "source": [
    "print(df_.shape)\n",
    "df_.tail(2)"
   ]
  },
  {
   "cell_type": "code",
   "execution_count": 11,
   "id": "1132f7af",
   "metadata": {},
   "outputs": [],
   "source": [
    "patents_df = pd.merge(patents_df, df_, on='id', how='left')"
   ]
  },
  {
   "cell_type": "code",
   "execution_count": 12,
   "id": "a02e44d7",
   "metadata": {},
   "outputs": [
    {
     "data": {
      "text/html": [
       "<div>\n",
       "<style scoped>\n",
       "    .dataframe tbody tr th:only-of-type {\n",
       "        vertical-align: middle;\n",
       "    }\n",
       "\n",
       "    .dataframe tbody tr th {\n",
       "        vertical-align: top;\n",
       "    }\n",
       "\n",
       "    .dataframe thead th {\n",
       "        text-align: right;\n",
       "    }\n",
       "</style>\n",
       "<table border=\"1\" class=\"dataframe\">\n",
       "  <thead>\n",
       "    <tr style=\"text-align: right;\">\n",
       "      <th></th>\n",
       "      <th>id</th>\n",
       "      <th>title</th>\n",
       "      <th>assignee</th>\n",
       "      <th>inventor/author</th>\n",
       "      <th>priority date</th>\n",
       "      <th>filing/creation date</th>\n",
       "      <th>publication date</th>\n",
       "      <th>grant date</th>\n",
       "      <th>result link</th>\n",
       "      <th>representative figure link</th>\n",
       "      <th>abstract</th>\n",
       "      <th>claims</th>\n",
       "      <th>description</th>\n",
       "    </tr>\n",
       "  </thead>\n",
       "  <tbody>\n",
       "    <tr>\n",
       "      <th>0</th>\n",
       "      <td>US-10914955-B2</td>\n",
       "      <td>Peripheral vision in a human-machine interface</td>\n",
       "      <td>Thales</td>\n",
       "      <td>Stéphanie Lafon, Alexiane Bailly, Sébastien Dotte</td>\n",
       "      <td>2018-02-12</td>\n",
       "      <td>2019-02-11</td>\n",
       "      <td>2021-02-09</td>\n",
       "      <td>2021-02-09</td>\n",
       "      <td>https://patents.google.com/patent/US10914955B2/en</td>\n",
       "      <td>https://patentimages.storage.googleapis.com/f6...</td>\n",
       "      <td>A computer-implemented method for managing a g...</td>\n",
       "      <td>The invention claimed is: 1.  A computer-imple...</td>\n",
       "      <td>CROSS-REFERENCE TO RELATED APPLICATIONS This a...</td>\n",
       "    </tr>\n",
       "    <tr>\n",
       "      <th>1</th>\n",
       "      <td>US-11102014-B2</td>\n",
       "      <td>Method for handling data in a secure container</td>\n",
       "      <td>THALES DIS CPL CANADA, Inc.</td>\n",
       "      <td>Dmitry RIYUMKIN, Darren Johnson</td>\n",
       "      <td>2019-01-30</td>\n",
       "      <td>2019-01-30</td>\n",
       "      <td>2021-08-24</td>\n",
       "      <td>2021-08-24</td>\n",
       "      <td>https://patents.google.com/patent/US11102014B2/en</td>\n",
       "      <td>https://patentimages.storage.googleapis.com/45...</td>\n",
       "      <td>The invention is a method for handling data in...</td>\n",
       "      <td>The invention claimed is: 1.  A system includi...</td>\n",
       "      <td>FIELD OF THE INVENTION The present invention r...</td>\n",
       "    </tr>\n",
       "  </tbody>\n",
       "</table>\n",
       "</div>"
      ],
      "text/plain": [
       "               id                                            title  \\\n",
       "0  US-10914955-B2  Peripheral vision in a human-machine interface    \n",
       "1  US-11102014-B2  Method for handling data in a secure container    \n",
       "\n",
       "                      assignee  \\\n",
       "0                       Thales   \n",
       "1  THALES DIS CPL CANADA, Inc.   \n",
       "\n",
       "                                     inventor/author priority date  \\\n",
       "0  Stéphanie Lafon, Alexiane Bailly, Sébastien Dotte    2018-02-12   \n",
       "1                    Dmitry RIYUMKIN, Darren Johnson    2019-01-30   \n",
       "\n",
       "  filing/creation date publication date  grant date  \\\n",
       "0           2019-02-11       2021-02-09  2021-02-09   \n",
       "1           2019-01-30       2021-08-24  2021-08-24   \n",
       "\n",
       "                                         result link  \\\n",
       "0  https://patents.google.com/patent/US10914955B2/en   \n",
       "1  https://patents.google.com/patent/US11102014B2/en   \n",
       "\n",
       "                          representative figure link  \\\n",
       "0  https://patentimages.storage.googleapis.com/f6...   \n",
       "1  https://patentimages.storage.googleapis.com/45...   \n",
       "\n",
       "                                            abstract  \\\n",
       "0  A computer-implemented method for managing a g...   \n",
       "1  The invention is a method for handling data in...   \n",
       "\n",
       "                                              claims  \\\n",
       "0  The invention claimed is: 1.  A computer-imple...   \n",
       "1  The invention claimed is: 1.  A system includi...   \n",
       "\n",
       "                                         description  \n",
       "0  CROSS-REFERENCE TO RELATED APPLICATIONS This a...  \n",
       "1  FIELD OF THE INVENTION The present invention r...  "
      ]
     },
     "execution_count": 12,
     "metadata": {},
     "output_type": "execute_result"
    }
   ],
   "source": [
    "patents_df.head(2)"
   ]
  },
  {
   "cell_type": "code",
   "execution_count": 13,
   "id": "41e28129",
   "metadata": {},
   "outputs": [],
   "source": [
    "patents_df.to_csv('uspto-patents_df.tsv', index = False, sep=\"\\t\")"
   ]
  },
  {
   "cell_type": "code",
   "execution_count": 14,
   "id": "d6100cab",
   "metadata": {},
   "outputs": [],
   "source": [
    "patents_df.to_pickle(\"uspto-patents_df.pkl\")  "
   ]
  },
  {
   "cell_type": "code",
   "execution_count": null,
   "id": "cb3c0cfa",
   "metadata": {},
   "outputs": [],
   "source": []
  }
 ],
 "metadata": {
  "kernelspec": {
   "display_name": "Python 3 (ipykernel)",
   "language": "python",
   "name": "python3"
  },
  "language_info": {
   "codemirror_mode": {
    "name": "ipython",
    "version": 3
   },
   "file_extension": ".py",
   "mimetype": "text/x-python",
   "name": "python",
   "nbconvert_exporter": "python",
   "pygments_lexer": "ipython3",
   "version": "3.9.5"
  }
 },
 "nbformat": 4,
 "nbformat_minor": 5
}
