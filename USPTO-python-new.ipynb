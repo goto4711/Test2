{
 "cells": [
  {
   "cell_type": "markdown",
   "id": "0847ef0a",
   "metadata": {},
   "source": [
    "# USPTO"
   ]
  },
  {
   "cell_type": "code",
   "execution_count": 1,
   "id": "e0982f1b",
   "metadata": {},
   "outputs": [
    {
     "name": "stdout",
     "output_type": "stream",
     "text": [
      "Enabling: voila\n",
      "- Writing config: /Users/tblanke/opt/anaconda3/etc/jupyter\n",
      "    - Validating...\n",
      "      voila 0.3.6 \u001b[32mOK\u001b[0m\n",
      "Building jupyterlab assets (production, minimized)\n"
     ]
    }
   ],
   "source": [
    "#!pip install --user voila\n",
    "#!jupyter labextension install @jupyter-widgets/jupyterlab-manager\n",
    "!jupyter serverextension enable voila --sys-prefix\n",
    "!jupyter nbextension enable --py widgetsnbextension"
   ]
  },
  {
   "cell_type": "code",
   "execution_count": 31,
   "id": "72bfe6ee",
   "metadata": {},
   "outputs": [],
   "source": [
    "import pandas as pd\n",
    "from bs4 import BeautifulSoup\n",
    "\n",
    "import urllib3\n",
    "import requests\n",
    "\n",
    "from bs4 import BeautifulSoup\n",
    "import json\n",
    "\n",
    "import re\n",
    "import time\n",
    "import random\n",
    "\n",
    "def get_abstract(s):\n",
    "    try:\n",
    "        abst = s.find(string='Abstract').find_next().text.replace('\\n', '').strip()\n",
    "        return(re.sub(' +',' ', abst))\n",
    "    except:\n",
    "        return(\"\")\n",
    "    \n",
    "def get_claims(s):\n",
    "    try:\n",
    "        claims = s.find(string=re.compile('Claims')).find_all_next(string=True)\n",
    "        claims = claims[:claims.index('Description')]\n",
    "        claims = [i.replace('\\n', '').strip() for i in claims if i.replace('\\n', '').strip() != '']\n",
    "        return(' '.join(claims))\n",
    "    except:\n",
    "        return(\"\")\n",
    "\n",
    "def get_description(s):\n",
    "    try:\n",
    "        description = s.find(string=re.compile('Description')).find_all_next(string=True)\n",
    "        description = [i.replace('\\n', '').strip() for i in description if i.replace('\\n', '').strip() not in ['', '* * * * *']]\n",
    "        return(' '. join(description))\n",
    "    except:\n",
    "        return(\"\")\n",
    "    \n",
    "#Scraping taken from https://github.com/daneads/pypatent\n",
    "#Goes to the old DB with traditional HTML \n",
    "#https://patft.uspto.gov/netacgi/nph-Parser?Sect1=PTO1&Sect2=HITOFF&d=PALL&p=1&u=%2Fnetahtml%2FPTO%2Fsrchnum.htm&r=1&f=G&l=50&s1=11,163,036.PN.&OS=PN/11,163,036&RS=PN/11,163,036\n",
    "\n",
    "from selenium import webdriver\n",
    "\n",
    "class WebConnection:\n",
    "    def __init__(self,\n",
    "                 use_selenium: bool = False,\n",
    "                 selenium_driver: webdriver = None,\n",
    "                 user_agent: str = None,\n",
    "                 request_header: dict = None):\n",
    "        self.use_selenium = use_selenium\n",
    "        self.selenium_driver = selenium_driver\n",
    "\n",
    "        if user_agent is None:\n",
    "            self.user_agent = 'Mozilla/5.0 (Windows NT 10.0; Win64; x64) AppleWebKit/537.36 (KHTML, like Gecko) Chrome/70.0.3538.77 Safari/537.36'\n",
    "        else:\n",
    "            self.user_agent = user_agent\n",
    "        if request_header is None:\n",
    "            self.request_header = {'user-agent': self.user_agent}\n",
    "        else:\n",
    "            self.request_header = request_header\n",
    "\n",
    "    def get(self, url: str):\n",
    "        if self.use_selenium:\n",
    "            if self.selenium_driver is None:\n",
    "                raise ValueError('WebConnection.selenium_driver must point to a valid Selenium webdriver')\n",
    "            else:\n",
    "                self.selenium_driver.get(url)\n",
    "                return self.selenium_driver.page_source\n",
    "        else:\n",
    "            return requests.get(url, headers=self.request_header).text"
   ]
  },
  {
   "cell_type": "code",
   "execution_count": 8,
   "id": "234a21a1",
   "metadata": {},
   "outputs": [
    {
     "data": {
      "application/vnd.jupyter.widget-view+json": {
       "model_id": "",
       "version_major": 2,
       "version_minor": 0
      },
      "text/plain": [
       "FileUpload(value={}, accept='.csv', description='Upload Patent CSV')"
      ]
     },
     "metadata": {},
     "output_type": "display_data"
    }
   ],
   "source": [
    "import ipywidgets as widgets\n",
    "    \n",
    "google_in = widgets.FileUpload(accept='.csv', multiple = False, description= 'Upload Patent')\n",
    "\n",
    "display(google_in)"
   ]
  },
  {
   "cell_type": "markdown",
   "id": "66e9b9d4",
   "metadata": {},
   "source": [
    "- Go to Google Patent Search advanced search\n",
    "- Specify the query, for instance, with assignee and inventor name: https://patents.google.com/?inventor=Yufei+Blankenship&assignee=Google+Llc\n",
    "- Make sure to only include US and English ... https://patents.google.com/?country=US&status=GRANT&language=ENGLISH&type=PATENT\n",
    "- Full search https://patents.google.com/?q=data&assignee=Thales&country=US&before=priority:20221231&after=priority:20180101&status=GRANT&language=ENGLISH&type=PATENT\n",
    "- Download CSV file (first link not with concepts) "
   ]
  },
  {
   "cell_type": "code",
   "execution_count": 29,
   "id": "b0acee12",
   "metadata": {},
   "outputs": [
    {
     "data": {
      "text/html": [
       "<div>\n",
       "<style scoped>\n",
       "    .dataframe tbody tr th:only-of-type {\n",
       "        vertical-align: middle;\n",
       "    }\n",
       "\n",
       "    .dataframe tbody tr th {\n",
       "        vertical-align: top;\n",
       "    }\n",
       "\n",
       "    .dataframe thead th {\n",
       "        text-align: right;\n",
       "    }\n",
       "</style>\n",
       "<table border=\"1\" class=\"dataframe\">\n",
       "  <thead>\n",
       "    <tr style=\"text-align: right;\">\n",
       "      <th></th>\n",
       "      <th>id</th>\n",
       "      <th>title</th>\n",
       "      <th>assignee</th>\n",
       "      <th>inventor/author</th>\n",
       "      <th>priority date</th>\n",
       "      <th>filing/creation date</th>\n",
       "      <th>publication date</th>\n",
       "      <th>grant date</th>\n",
       "      <th>result link</th>\n",
       "      <th>representative figure link</th>\n",
       "    </tr>\n",
       "  </thead>\n",
       "  <tbody>\n",
       "    <tr>\n",
       "      <th>0</th>\n",
       "      <td>US-10914955-B2</td>\n",
       "      <td>Peripheral vision in a human-machine interface</td>\n",
       "      <td>Thales</td>\n",
       "      <td>Stéphanie Lafon, Alexiane Bailly, Sébastien Dotte</td>\n",
       "      <td>2018-02-12</td>\n",
       "      <td>2019-02-11</td>\n",
       "      <td>2021-02-09</td>\n",
       "      <td>2021-02-09</td>\n",
       "      <td>https://patents.google.com/patent/US10914955B2/en</td>\n",
       "      <td>https://patentimages.storage.googleapis.com/f6...</td>\n",
       "    </tr>\n",
       "  </tbody>\n",
       "</table>\n",
       "</div>"
      ],
      "text/plain": [
       "               id                                            title assignee  \\\n",
       "0  US-10914955-B2  Peripheral vision in a human-machine interface    Thales   \n",
       "\n",
       "                                     inventor/author priority date  \\\n",
       "0  Stéphanie Lafon, Alexiane Bailly, Sébastien Dotte    2018-02-12   \n",
       "\n",
       "  filing/creation date publication date  grant date  \\\n",
       "0           2019-02-11       2021-02-09  2021-02-09   \n",
       "\n",
       "                                         result link  \\\n",
       "0  https://patents.google.com/patent/US10914955B2/en   \n",
       "\n",
       "                          representative figure link  \n",
       "0  https://patentimages.storage.googleapis.com/f6...  "
      ]
     },
     "execution_count": 29,
     "metadata": {},
     "output_type": "execute_result"
    }
   ],
   "source": [
    "input_file = list(google_in.value.values())[0]\n",
    "content = input_file['content']\n",
    "content = io.StringIO(content.decode('utf-8'))\n",
    "patents_df = pd.read_csv(content, skiprows=[0])\n",
    "#Only US patents \n",
    "patents_df = patents_df[patents_df['id'].str.startswith('US', na=False)] \n",
    "patents_df.head(1)"
   ]
  },
  {
   "cell_type": "code",
   "execution_count": 35,
   "id": "16544a34",
   "metadata": {},
   "outputs": [
    {
     "data": {
      "application/vnd.jupyter.widget-view+json": {
       "model_id": "5b13512621d94728861c45d2bf0d0d7a",
       "version_major": 2,
       "version_minor": 0
      },
      "text/plain": [
       "Button(description='Scrape USPTO', style=ButtonStyle())"
      ]
     },
     "metadata": {},
     "output_type": "display_data"
    },
    {
     "data": {
      "text/plain": [
       "74"
      ]
     },
     "metadata": {},
     "output_type": "display_data"
    },
    {
     "data": {
      "text/plain": [
       "64"
      ]
     },
     "metadata": {},
     "output_type": "display_data"
    },
    {
     "data": {
      "text/plain": [
       "54"
      ]
     },
     "metadata": {},
     "output_type": "display_data"
    },
    {
     "data": {
      "text/plain": [
       "44"
      ]
     },
     "metadata": {},
     "output_type": "display_data"
    },
    {
     "data": {
      "text/plain": [
       "34"
      ]
     },
     "metadata": {},
     "output_type": "display_data"
    },
    {
     "data": {
      "text/plain": [
       "24"
      ]
     },
     "metadata": {},
     "output_type": "display_data"
    },
    {
     "data": {
      "text/plain": [
       "14"
      ]
     },
     "metadata": {},
     "output_type": "display_data"
    },
    {
     "data": {
      "text/plain": [
       "4"
      ]
     },
     "metadata": {},
     "output_type": "display_data"
    }
   ],
   "source": [
    "def on_click_scrape(change):\n",
    "    data = []\n",
    "    i = 1\n",
    "    for id_ in list(patents_df['id']):\n",
    "        #Format is 1,100,100 without the US and extension\n",
    "        p_ = '{:,}'.format(int(re.findall(r'\\d+', id_)[0]))\n",
    "        url_ = 'https://patft.uspto.gov/netacgi/nph-Parser?Sect1=PTO1&Sect2=HITOFF&d=PALL&p=1&u=%2Fnetahtml%2FPTO%2Fsrchnum.htm&r=1&f=G&l=50&s1=' + p_ + '.PN.&OS=PN/' + p_ + '&RS=PN/' + p_\n",
    "        r = WebConnection().get(url_)\n",
    "        soup = BeautifulSoup(r, 'html.parser')\n",
    "        abs_ = get_abstract(soup)\n",
    "        desc_ = get_description(soup)\n",
    "        claim_ = get_claims(soup)\n",
    "        #Add time delay\n",
    "        if (i % 10 == 0):\n",
    "            time.sleep(random.randint(3, 7))\n",
    "            display(len(list(patents_df['id']))-i)\n",
    "        data.append((id_, abs_, claim_, desc_))\n",
    "        i = i + 1\n",
    "\n",
    "btn_run = widgets.Button(description='Scrape USPTO') \n",
    "display(btn_run)\n",
    "btn_run.on_click(on_click_scrape)"
   ]
  },
  {
   "cell_type": "code",
   "execution_count": 36,
   "id": "6ec97ed7",
   "metadata": {},
   "outputs": [],
   "source": [
    "df_ = pd.DataFrame(data, columns=['id', 'abstract', 'claims', 'description'])\n",
    "patents_df = pd.merge(patents_df, df_, on='id', how='left')"
   ]
  },
  {
   "cell_type": "code",
   "execution_count": 13,
   "id": "41e28129",
   "metadata": {},
   "outputs": [],
   "source": [
    "#patents_df.to_csv('uspto-patents_df.tsv', index = False, sep=\"\\t\")"
   ]
  },
  {
   "cell_type": "code",
   "execution_count": 37,
   "id": "d6100cab",
   "metadata": {},
   "outputs": [],
   "source": [
    "patents_df.to_pickle(\"uspto-patents_df.pkl\")  "
   ]
  },
  {
   "cell_type": "code",
   "execution_count": 38,
   "id": "cb3c0cfa",
   "metadata": {},
   "outputs": [],
   "source": [
    "import base64\n",
    "import hashlib\n",
    "from typing import Callable\n",
    "\n",
    "import ipywidgets\n",
    "from IPython.display import HTML, display\n",
    "\n",
    "\n",
    "class DownloadButton(ipywidgets.Button):\n",
    "    \"\"\"Download button with dynamic content\n",
    "\n",
    "    The content is generated using a callback when the button is clicked.\n",
    "    \"\"\"\n",
    "\n",
    "    def __init__(self, filename: str, contents: Callable[[], str], **kwargs):\n",
    "        super(DownloadButton, self).__init__(**kwargs)\n",
    "        self.filename = filename\n",
    "        self.contents = contents\n",
    "        self.on_click(self.__on_click)\n",
    "\n",
    "    def __on_click(self, b):\n",
    "        contents: bytes = self.contents().encode('utf-8')\n",
    "        b64 = base64.b64encode(contents)\n",
    "        payload = b64.decode()\n",
    "        digest = hashlib.md5(contents).hexdigest()  # bypass browser cache\n",
    "        id = f'dl_{digest}'\n",
    "\n",
    "        display(HTML(f\"\"\"\n",
    "<html>\n",
    "<body>\n",
    "<a id=\"{id}\" download=\"{self.filename}\" href=\"data:text/csv;base64,{payload}\" download>\n",
    "</a>\n",
    "\n",
    "<script>\n",
    "(function download() {{\n",
    "document.getElementById('{id}').click();\n",
    "}})()\n",
    "</script>\n",
    "\n",
    "</body>\n",
    "</html>\n",
    "\"\"\"))\n"
   ]
  },
  {
   "cell_type": "code",
   "execution_count": 39,
   "id": "2c47dd57",
   "metadata": {},
   "outputs": [
    {
     "data": {
      "application/vnd.jupyter.widget-view+json": {
       "model_id": "36f173c31d974ee28bf9c52745175667",
       "version_major": 2,
       "version_minor": 0
      },
      "text/plain": [
       "DownloadButton(description='download', style=ButtonStyle())"
      ]
     },
     "metadata": {},
     "output_type": "display_data"
    },
    {
     "data": {
      "text/html": [
       "\n",
       "<html>\n",
       "<body>\n",
       "<a id=\"dl_822fd014f2daeab44f643d52781f5340\" download=\"uspto-patents_df.pkl\" href=\"data:text/csv;base64,aGVsbG8gMTY2MDU1NTc2Mi4zNjk5NTI=\" download>\n",
       "</a>\n",
       "\n",
       "<script>\n",
       "(function download() {\n",
       "document.getElementById('dl_822fd014f2daeab44f643d52781f5340').click();\n",
       "})()\n",
       "</script>\n",
       "\n",
       "</body>\n",
       "</html>\n"
      ],
      "text/plain": [
       "<IPython.core.display.HTML object>"
      ]
     },
     "metadata": {},
     "output_type": "display_data"
    }
   ],
   "source": [
    "DownloadButton(filename='uspto-patents_df.pkl', contents=lambda: f'hello {time.time()}', description='download')"
   ]
  },
  {
   "cell_type": "code",
   "execution_count": null,
   "id": "1068daf4",
   "metadata": {},
   "outputs": [],
   "source": []
  }
 ],
 "metadata": {
  "kernelspec": {
   "display_name": "Python 3 (ipykernel)",
   "language": "python",
   "name": "python3"
  },
  "language_info": {
   "codemirror_mode": {
    "name": "ipython",
    "version": 3
   },
   "file_extension": ".py",
   "mimetype": "text/x-python",
   "name": "python",
   "nbconvert_exporter": "python",
   "pygments_lexer": "ipython3",
   "version": "3.9.7"
  }
 },
 "nbformat": 4,
 "nbformat_minor": 5
}
